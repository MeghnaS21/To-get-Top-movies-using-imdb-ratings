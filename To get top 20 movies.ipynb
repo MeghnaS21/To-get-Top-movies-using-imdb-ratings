{
 "cells": [
  {
   "cell_type": "code",
   "execution_count": 1,
   "metadata": {},
   "outputs": [],
   "source": [
    "import imdb"
   ]
  },
  {
   "cell_type": "code",
   "execution_count": 2,
   "metadata": {},
   "outputs": [],
   "source": [
    "ia=imdb.IMDb()"
   ]
  },
  {
   "cell_type": "code",
   "execution_count": 3,
   "metadata": {},
   "outputs": [],
   "source": [
    "search=ia.get_top250_movies()"
   ]
  },
  {
   "cell_type": "code",
   "execution_count": 4,
   "metadata": {},
   "outputs": [
    {
     "name": "stdout",
     "output_type": "stream",
     "text": [
      "The Shawshank Redemption\n",
      "The Godfather\n",
      "The Godfather: Part II\n",
      "The Dark Knight\n",
      "12 Angry Men\n",
      "Schindler's List\n",
      "The Lord of the Rings: The Return of the King\n",
      "Pulp Fiction\n",
      "The Good, the Bad and the Ugly\n",
      "The Lord of the Rings: The Fellowship of the Ring\n",
      "Fight Club\n",
      "Forrest Gump\n",
      "Inception\n",
      "Star Wars: Episode V - The Empire Strikes Back\n",
      "The Lord of the Rings: The Two Towers\n",
      "The Matrix\n",
      "Goodfellas\n",
      "One Flew Over the Cuckoo's Nest\n",
      "Seven Samurai\n",
      "Se7en\n",
      "Life Is Beautiful\n",
      "City of God\n",
      "The Silence of the Lambs\n",
      "It's a Wonderful Life\n",
      "Star Wars: Episode IV - A New Hope\n"
     ]
    }
   ],
   "source": [
    "for i in range(25):\n",
    "    print(search[i])"
   ]
  },
  {
   "cell_type": "code",
   "execution_count": null,
   "metadata": {},
   "outputs": [],
   "source": []
  }
 ],
 "metadata": {
  "kernelspec": {
   "display_name": "Python 3",
   "language": "python",
   "name": "python3"
  },
  "language_info": {
   "codemirror_mode": {
    "name": "ipython",
    "version": 3
   },
   "file_extension": ".py",
   "mimetype": "text/x-python",
   "name": "python",
   "nbconvert_exporter": "python",
   "pygments_lexer": "ipython3",
   "version": "3.7.3"
  }
 },
 "nbformat": 4,
 "nbformat_minor": 2
}
